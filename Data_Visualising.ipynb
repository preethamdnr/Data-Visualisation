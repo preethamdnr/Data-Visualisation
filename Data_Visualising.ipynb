{
  "nbformat": 4,
  "nbformat_minor": 0,
  "metadata": {
    "colab": {
      "name": "Data Visualising.ipynb",
      "provenance": [],
      "collapsed_sections": [],
      "toc_visible": true
    },
    "kernelspec": {
      "name": "python3",
      "display_name": "Python 3"
    }
  },
  "cells": [
    {
      "cell_type": "code",
      "metadata": {
        "id": "QdvmPWSm-Cmq"
      },
      "source": [
        ""
      ],
      "execution_count": null,
      "outputs": []
    },
    {
      "cell_type": "markdown",
      "metadata": {
        "id": "2aSP_9nns8e5"
      },
      "source": [
        "# New Section"
      ]
    },
    {
      "cell_type": "markdown",
      "metadata": {
        "id": "q4P0mhLRZpcn"
      },
      "source": [
        "These are some visualising techniques that I have learnt(Data Visualising)"
      ]
    },
    {
      "cell_type": "code",
      "metadata": {
        "id": "agKhnKKwaEkE"
      },
      "source": [
        "import pandas as pd\n",
        "import matplotlib.pyplot as plt\n",
        "import seaborn as sns"
      ],
      "execution_count": 1,
      "outputs": []
    },
    {
      "cell_type": "code",
      "metadata": {
        "id": "Z312KanSabdO"
      },
      "source": [
        "df = pd.read_csv('inputfile.csv')\n"
      ],
      "execution_count": 2,
      "outputs": []
    },
    {
      "cell_type": "code",
      "metadata": {
        "id": "ywF9nnlLa_TR",
        "outputId": "92a2d3f6-d751-43fc-8d7b-7745e12617c9",
        "colab": {
          "base_uri": "https://localhost:8080/",
          "height": 361
        }
      },
      "source": [
        "df.head()"
      ],
      "execution_count": 3,
      "outputs": [
        {
          "output_type": "execute_result",
          "data": {
            "text/html": [
              "<div>\n",
              "<style scoped>\n",
              "    .dataframe tbody tr th:only-of-type {\n",
              "        vertical-align: middle;\n",
              "    }\n",
              "\n",
              "    .dataframe tbody tr th {\n",
              "        vertical-align: top;\n",
              "    }\n",
              "\n",
              "    .dataframe thead th {\n",
              "        text-align: right;\n",
              "    }\n",
              "</style>\n",
              "<table border=\"1\" class=\"dataframe\">\n",
              "  <thead>\n",
              "    <tr style=\"text-align: right;\">\n",
              "      <th></th>\n",
              "      <th>Rank</th>\n",
              "      <th>Major_code</th>\n",
              "      <th>Major</th>\n",
              "      <th>Total</th>\n",
              "      <th>Men</th>\n",
              "      <th>Women</th>\n",
              "      <th>Major_category</th>\n",
              "      <th>ShareWomen</th>\n",
              "      <th>Sample_size</th>\n",
              "      <th>Employed</th>\n",
              "      <th>Full_time</th>\n",
              "      <th>Part_time</th>\n",
              "      <th>Full_time_year_round</th>\n",
              "      <th>Unemployed</th>\n",
              "      <th>Unemployment_rate</th>\n",
              "      <th>Median</th>\n",
              "      <th>P25th</th>\n",
              "      <th>P75th</th>\n",
              "      <th>College_jobs</th>\n",
              "      <th>Non_college_jobs</th>\n",
              "      <th>Low_wage_jobs</th>\n",
              "    </tr>\n",
              "  </thead>\n",
              "  <tbody>\n",
              "    <tr>\n",
              "      <th>0</th>\n",
              "      <td>1</td>\n",
              "      <td>2419</td>\n",
              "      <td>PETROLEUM ENGINEERING</td>\n",
              "      <td>2339.0</td>\n",
              "      <td>2057.0</td>\n",
              "      <td>282.0</td>\n",
              "      <td>Engineering</td>\n",
              "      <td>0.120564</td>\n",
              "      <td>36</td>\n",
              "      <td>1976</td>\n",
              "      <td>1849</td>\n",
              "      <td>270</td>\n",
              "      <td>1207</td>\n",
              "      <td>37</td>\n",
              "      <td>0.018381</td>\n",
              "      <td>110000</td>\n",
              "      <td>95000</td>\n",
              "      <td>125000</td>\n",
              "      <td>1534</td>\n",
              "      <td>364</td>\n",
              "      <td>193</td>\n",
              "    </tr>\n",
              "    <tr>\n",
              "      <th>1</th>\n",
              "      <td>2</td>\n",
              "      <td>2416</td>\n",
              "      <td>MINING AND MINERAL ENGINEERING</td>\n",
              "      <td>756.0</td>\n",
              "      <td>679.0</td>\n",
              "      <td>77.0</td>\n",
              "      <td>Engineering</td>\n",
              "      <td>0.101852</td>\n",
              "      <td>7</td>\n",
              "      <td>640</td>\n",
              "      <td>556</td>\n",
              "      <td>170</td>\n",
              "      <td>388</td>\n",
              "      <td>85</td>\n",
              "      <td>0.117241</td>\n",
              "      <td>75000</td>\n",
              "      <td>55000</td>\n",
              "      <td>90000</td>\n",
              "      <td>350</td>\n",
              "      <td>257</td>\n",
              "      <td>50</td>\n",
              "    </tr>\n",
              "    <tr>\n",
              "      <th>2</th>\n",
              "      <td>3</td>\n",
              "      <td>2415</td>\n",
              "      <td>METALLURGICAL ENGINEERING</td>\n",
              "      <td>856.0</td>\n",
              "      <td>725.0</td>\n",
              "      <td>131.0</td>\n",
              "      <td>Engineering</td>\n",
              "      <td>0.153037</td>\n",
              "      <td>3</td>\n",
              "      <td>648</td>\n",
              "      <td>558</td>\n",
              "      <td>133</td>\n",
              "      <td>340</td>\n",
              "      <td>16</td>\n",
              "      <td>0.024096</td>\n",
              "      <td>73000</td>\n",
              "      <td>50000</td>\n",
              "      <td>105000</td>\n",
              "      <td>456</td>\n",
              "      <td>176</td>\n",
              "      <td>0</td>\n",
              "    </tr>\n",
              "    <tr>\n",
              "      <th>3</th>\n",
              "      <td>4</td>\n",
              "      <td>2417</td>\n",
              "      <td>NAVAL ARCHITECTURE AND MARINE ENGINEERING</td>\n",
              "      <td>1258.0</td>\n",
              "      <td>1123.0</td>\n",
              "      <td>135.0</td>\n",
              "      <td>Engineering</td>\n",
              "      <td>0.107313</td>\n",
              "      <td>16</td>\n",
              "      <td>758</td>\n",
              "      <td>1069</td>\n",
              "      <td>150</td>\n",
              "      <td>692</td>\n",
              "      <td>40</td>\n",
              "      <td>0.050125</td>\n",
              "      <td>70000</td>\n",
              "      <td>43000</td>\n",
              "      <td>80000</td>\n",
              "      <td>529</td>\n",
              "      <td>102</td>\n",
              "      <td>0</td>\n",
              "    </tr>\n",
              "    <tr>\n",
              "      <th>4</th>\n",
              "      <td>5</td>\n",
              "      <td>2405</td>\n",
              "      <td>CHEMICAL ENGINEERING</td>\n",
              "      <td>32260.0</td>\n",
              "      <td>21239.0</td>\n",
              "      <td>11021.0</td>\n",
              "      <td>Engineering</td>\n",
              "      <td>0.341631</td>\n",
              "      <td>289</td>\n",
              "      <td>25694</td>\n",
              "      <td>23170</td>\n",
              "      <td>5180</td>\n",
              "      <td>16697</td>\n",
              "      <td>1672</td>\n",
              "      <td>0.061098</td>\n",
              "      <td>65000</td>\n",
              "      <td>50000</td>\n",
              "      <td>75000</td>\n",
              "      <td>18314</td>\n",
              "      <td>4440</td>\n",
              "      <td>972</td>\n",
              "    </tr>\n",
              "  </tbody>\n",
              "</table>\n",
              "</div>"
            ],
            "text/plain": [
              "   Rank  Major_code  ... Non_college_jobs  Low_wage_jobs\n",
              "0     1        2419  ...              364            193\n",
              "1     2        2416  ...              257             50\n",
              "2     3        2415  ...              176              0\n",
              "3     4        2417  ...              102              0\n",
              "4     5        2405  ...             4440            972\n",
              "\n",
              "[5 rows x 21 columns]"
            ]
          },
          "metadata": {
            "tags": []
          },
          "execution_count": 3
        }
      ]
    },
    {
      "cell_type": "markdown",
      "metadata": {
        "id": "N6A3f3V-bYqi"
      },
      "source": [
        "Advantage of using pandas\n",
        "This package can represent data in a way that is suitable for \"Data Analysis\".This package contains multiple methods for convinent data filtering.\n",
        "\n",
        "Advantage of using matplotlib.\n",
        "Simply it is useful for represent our data graphically \n",
        "\n",
        "Advantage of using seaborn.\n",
        "Simply it provides a high-level interface for drawing attractive and informative statistical graphics\n"
      ]
    },
    {
      "cell_type": "code",
      "metadata": {
        "id": "EL9PPbw5dhlf",
        "outputId": "a27cd2ec-196f-4c06-bb9b-b05b6a711832",
        "colab": {
          "base_uri": "https://localhost:8080/",
          "height": 309
        }
      },
      "source": [
        "df.tail()"
      ],
      "execution_count": 4,
      "outputs": [
        {
          "output_type": "execute_result",
          "data": {
            "text/html": [
              "<div>\n",
              "<style scoped>\n",
              "    .dataframe tbody tr th:only-of-type {\n",
              "        vertical-align: middle;\n",
              "    }\n",
              "\n",
              "    .dataframe tbody tr th {\n",
              "        vertical-align: top;\n",
              "    }\n",
              "\n",
              "    .dataframe thead th {\n",
              "        text-align: right;\n",
              "    }\n",
              "</style>\n",
              "<table border=\"1\" class=\"dataframe\">\n",
              "  <thead>\n",
              "    <tr style=\"text-align: right;\">\n",
              "      <th></th>\n",
              "      <th>Rank</th>\n",
              "      <th>Major_code</th>\n",
              "      <th>Major</th>\n",
              "      <th>Total</th>\n",
              "      <th>Men</th>\n",
              "      <th>Women</th>\n",
              "      <th>Major_category</th>\n",
              "      <th>ShareWomen</th>\n",
              "      <th>Sample_size</th>\n",
              "      <th>Employed</th>\n",
              "      <th>Full_time</th>\n",
              "      <th>Part_time</th>\n",
              "      <th>Full_time_year_round</th>\n",
              "      <th>Unemployed</th>\n",
              "      <th>Unemployment_rate</th>\n",
              "      <th>Median</th>\n",
              "      <th>P25th</th>\n",
              "      <th>P75th</th>\n",
              "      <th>College_jobs</th>\n",
              "      <th>Non_college_jobs</th>\n",
              "      <th>Low_wage_jobs</th>\n",
              "    </tr>\n",
              "  </thead>\n",
              "  <tbody>\n",
              "    <tr>\n",
              "      <th>168</th>\n",
              "      <td>169</td>\n",
              "      <td>3609</td>\n",
              "      <td>ZOOLOGY</td>\n",
              "      <td>8409.0</td>\n",
              "      <td>3050.0</td>\n",
              "      <td>5359.0</td>\n",
              "      <td>Biology &amp; Life Science</td>\n",
              "      <td>0.637293</td>\n",
              "      <td>47</td>\n",
              "      <td>6259</td>\n",
              "      <td>5043</td>\n",
              "      <td>2190</td>\n",
              "      <td>3602</td>\n",
              "      <td>304</td>\n",
              "      <td>0.046320</td>\n",
              "      <td>26000</td>\n",
              "      <td>20000</td>\n",
              "      <td>39000</td>\n",
              "      <td>2771</td>\n",
              "      <td>2947</td>\n",
              "      <td>743</td>\n",
              "    </tr>\n",
              "    <tr>\n",
              "      <th>169</th>\n",
              "      <td>170</td>\n",
              "      <td>5201</td>\n",
              "      <td>EDUCATIONAL PSYCHOLOGY</td>\n",
              "      <td>2854.0</td>\n",
              "      <td>522.0</td>\n",
              "      <td>2332.0</td>\n",
              "      <td>Psychology &amp; Social Work</td>\n",
              "      <td>0.817099</td>\n",
              "      <td>7</td>\n",
              "      <td>2125</td>\n",
              "      <td>1848</td>\n",
              "      <td>572</td>\n",
              "      <td>1211</td>\n",
              "      <td>148</td>\n",
              "      <td>0.065112</td>\n",
              "      <td>25000</td>\n",
              "      <td>24000</td>\n",
              "      <td>34000</td>\n",
              "      <td>1488</td>\n",
              "      <td>615</td>\n",
              "      <td>82</td>\n",
              "    </tr>\n",
              "    <tr>\n",
              "      <th>170</th>\n",
              "      <td>171</td>\n",
              "      <td>5202</td>\n",
              "      <td>CLINICAL PSYCHOLOGY</td>\n",
              "      <td>2838.0</td>\n",
              "      <td>568.0</td>\n",
              "      <td>2270.0</td>\n",
              "      <td>Psychology &amp; Social Work</td>\n",
              "      <td>0.799859</td>\n",
              "      <td>13</td>\n",
              "      <td>2101</td>\n",
              "      <td>1724</td>\n",
              "      <td>648</td>\n",
              "      <td>1293</td>\n",
              "      <td>368</td>\n",
              "      <td>0.149048</td>\n",
              "      <td>25000</td>\n",
              "      <td>25000</td>\n",
              "      <td>40000</td>\n",
              "      <td>986</td>\n",
              "      <td>870</td>\n",
              "      <td>622</td>\n",
              "    </tr>\n",
              "    <tr>\n",
              "      <th>171</th>\n",
              "      <td>172</td>\n",
              "      <td>5203</td>\n",
              "      <td>COUNSELING PSYCHOLOGY</td>\n",
              "      <td>4626.0</td>\n",
              "      <td>931.0</td>\n",
              "      <td>3695.0</td>\n",
              "      <td>Psychology &amp; Social Work</td>\n",
              "      <td>0.798746</td>\n",
              "      <td>21</td>\n",
              "      <td>3777</td>\n",
              "      <td>3154</td>\n",
              "      <td>965</td>\n",
              "      <td>2738</td>\n",
              "      <td>214</td>\n",
              "      <td>0.053621</td>\n",
              "      <td>23400</td>\n",
              "      <td>19200</td>\n",
              "      <td>26000</td>\n",
              "      <td>2403</td>\n",
              "      <td>1245</td>\n",
              "      <td>308</td>\n",
              "    </tr>\n",
              "    <tr>\n",
              "      <th>172</th>\n",
              "      <td>173</td>\n",
              "      <td>3501</td>\n",
              "      <td>LIBRARY SCIENCE</td>\n",
              "      <td>1098.0</td>\n",
              "      <td>134.0</td>\n",
              "      <td>964.0</td>\n",
              "      <td>Education</td>\n",
              "      <td>0.877960</td>\n",
              "      <td>2</td>\n",
              "      <td>742</td>\n",
              "      <td>593</td>\n",
              "      <td>237</td>\n",
              "      <td>410</td>\n",
              "      <td>87</td>\n",
              "      <td>0.104946</td>\n",
              "      <td>22000</td>\n",
              "      <td>20000</td>\n",
              "      <td>22000</td>\n",
              "      <td>288</td>\n",
              "      <td>338</td>\n",
              "      <td>192</td>\n",
              "    </tr>\n",
              "  </tbody>\n",
              "</table>\n",
              "</div>"
            ],
            "text/plain": [
              "     Rank  Major_code  ... Non_college_jobs  Low_wage_jobs\n",
              "168   169        3609  ...             2947            743\n",
              "169   170        5201  ...              615             82\n",
              "170   171        5202  ...              870            622\n",
              "171   172        5203  ...             1245            308\n",
              "172   173        3501  ...              338            192\n",
              "\n",
              "[5 rows x 21 columns]"
            ]
          },
          "metadata": {
            "tags": []
          },
          "execution_count": 4
        }
      ]
    },
    {
      "cell_type": "markdown",
      "metadata": {
        "id": "xOY2Ai0MfvN3"
      },
      "source": [
        "I want to visualise the top 5 and bottom 5 entities in the dataset\n",
        "so above output represents it"
      ]
    },
    {
      "cell_type": "code",
      "metadata": {
        "id": "hFDIDZE8hOuy",
        "outputId": "d3500cce-ff5a-4b9c-ad94-fc180824c1e1",
        "colab": {
          "base_uri": "https://localhost:8080/",
          "height": 314
        }
      },
      "source": [
        "df.describe()"
      ],
      "execution_count": 5,
      "outputs": [
        {
          "output_type": "execute_result",
          "data": {
            "text/html": [
              "<div>\n",
              "<style scoped>\n",
              "    .dataframe tbody tr th:only-of-type {\n",
              "        vertical-align: middle;\n",
              "    }\n",
              "\n",
              "    .dataframe tbody tr th {\n",
              "        vertical-align: top;\n",
              "    }\n",
              "\n",
              "    .dataframe thead th {\n",
              "        text-align: right;\n",
              "    }\n",
              "</style>\n",
              "<table border=\"1\" class=\"dataframe\">\n",
              "  <thead>\n",
              "    <tr style=\"text-align: right;\">\n",
              "      <th></th>\n",
              "      <th>Rank</th>\n",
              "      <th>Major_code</th>\n",
              "      <th>Total</th>\n",
              "      <th>Men</th>\n",
              "      <th>Women</th>\n",
              "      <th>ShareWomen</th>\n",
              "      <th>Sample_size</th>\n",
              "      <th>Employed</th>\n",
              "      <th>Full_time</th>\n",
              "      <th>Part_time</th>\n",
              "      <th>Full_time_year_round</th>\n",
              "      <th>Unemployed</th>\n",
              "      <th>Unemployment_rate</th>\n",
              "      <th>Median</th>\n",
              "      <th>P25th</th>\n",
              "      <th>P75th</th>\n",
              "      <th>College_jobs</th>\n",
              "      <th>Non_college_jobs</th>\n",
              "      <th>Low_wage_jobs</th>\n",
              "    </tr>\n",
              "  </thead>\n",
              "  <tbody>\n",
              "    <tr>\n",
              "      <th>count</th>\n",
              "      <td>173.000000</td>\n",
              "      <td>173.000000</td>\n",
              "      <td>172.000000</td>\n",
              "      <td>172.000000</td>\n",
              "      <td>172.000000</td>\n",
              "      <td>172.000000</td>\n",
              "      <td>173.000000</td>\n",
              "      <td>173.000000</td>\n",
              "      <td>173.000000</td>\n",
              "      <td>173.000000</td>\n",
              "      <td>173.000000</td>\n",
              "      <td>173.000000</td>\n",
              "      <td>173.000000</td>\n",
              "      <td>173.000000</td>\n",
              "      <td>173.000000</td>\n",
              "      <td>173.000000</td>\n",
              "      <td>173.000000</td>\n",
              "      <td>173.000000</td>\n",
              "      <td>173.000000</td>\n",
              "    </tr>\n",
              "    <tr>\n",
              "      <th>mean</th>\n",
              "      <td>87.000000</td>\n",
              "      <td>3879.815029</td>\n",
              "      <td>39370.081395</td>\n",
              "      <td>16723.406977</td>\n",
              "      <td>22646.674419</td>\n",
              "      <td>0.522223</td>\n",
              "      <td>356.080925</td>\n",
              "      <td>31192.763006</td>\n",
              "      <td>26029.306358</td>\n",
              "      <td>8832.398844</td>\n",
              "      <td>19694.427746</td>\n",
              "      <td>2416.329480</td>\n",
              "      <td>0.068191</td>\n",
              "      <td>40151.445087</td>\n",
              "      <td>29501.445087</td>\n",
              "      <td>51494.219653</td>\n",
              "      <td>12322.635838</td>\n",
              "      <td>13284.497110</td>\n",
              "      <td>3859.017341</td>\n",
              "    </tr>\n",
              "    <tr>\n",
              "      <th>std</th>\n",
              "      <td>50.084928</td>\n",
              "      <td>1687.753140</td>\n",
              "      <td>63483.491009</td>\n",
              "      <td>28122.433474</td>\n",
              "      <td>41057.330740</td>\n",
              "      <td>0.231205</td>\n",
              "      <td>618.361022</td>\n",
              "      <td>50675.002241</td>\n",
              "      <td>42869.655092</td>\n",
              "      <td>14648.179473</td>\n",
              "      <td>33160.941514</td>\n",
              "      <td>4112.803148</td>\n",
              "      <td>0.030331</td>\n",
              "      <td>11470.181802</td>\n",
              "      <td>9166.005235</td>\n",
              "      <td>14906.279740</td>\n",
              "      <td>21299.868863</td>\n",
              "      <td>23789.655363</td>\n",
              "      <td>6944.998579</td>\n",
              "    </tr>\n",
              "    <tr>\n",
              "      <th>min</th>\n",
              "      <td>1.000000</td>\n",
              "      <td>1100.000000</td>\n",
              "      <td>124.000000</td>\n",
              "      <td>119.000000</td>\n",
              "      <td>0.000000</td>\n",
              "      <td>0.000000</td>\n",
              "      <td>2.000000</td>\n",
              "      <td>0.000000</td>\n",
              "      <td>111.000000</td>\n",
              "      <td>0.000000</td>\n",
              "      <td>111.000000</td>\n",
              "      <td>0.000000</td>\n",
              "      <td>0.000000</td>\n",
              "      <td>22000.000000</td>\n",
              "      <td>18500.000000</td>\n",
              "      <td>22000.000000</td>\n",
              "      <td>0.000000</td>\n",
              "      <td>0.000000</td>\n",
              "      <td>0.000000</td>\n",
              "    </tr>\n",
              "    <tr>\n",
              "      <th>25%</th>\n",
              "      <td>44.000000</td>\n",
              "      <td>2403.000000</td>\n",
              "      <td>4549.750000</td>\n",
              "      <td>2177.500000</td>\n",
              "      <td>1778.250000</td>\n",
              "      <td>0.336026</td>\n",
              "      <td>39.000000</td>\n",
              "      <td>3608.000000</td>\n",
              "      <td>3154.000000</td>\n",
              "      <td>1030.000000</td>\n",
              "      <td>2453.000000</td>\n",
              "      <td>304.000000</td>\n",
              "      <td>0.050306</td>\n",
              "      <td>33000.000000</td>\n",
              "      <td>24000.000000</td>\n",
              "      <td>42000.000000</td>\n",
              "      <td>1675.000000</td>\n",
              "      <td>1591.000000</td>\n",
              "      <td>340.000000</td>\n",
              "    </tr>\n",
              "    <tr>\n",
              "      <th>50%</th>\n",
              "      <td>87.000000</td>\n",
              "      <td>3608.000000</td>\n",
              "      <td>15104.000000</td>\n",
              "      <td>5434.000000</td>\n",
              "      <td>8386.500000</td>\n",
              "      <td>0.534024</td>\n",
              "      <td>130.000000</td>\n",
              "      <td>11797.000000</td>\n",
              "      <td>10048.000000</td>\n",
              "      <td>3299.000000</td>\n",
              "      <td>7413.000000</td>\n",
              "      <td>893.000000</td>\n",
              "      <td>0.067961</td>\n",
              "      <td>36000.000000</td>\n",
              "      <td>27000.000000</td>\n",
              "      <td>47000.000000</td>\n",
              "      <td>4390.000000</td>\n",
              "      <td>4595.000000</td>\n",
              "      <td>1231.000000</td>\n",
              "    </tr>\n",
              "    <tr>\n",
              "      <th>75%</th>\n",
              "      <td>130.000000</td>\n",
              "      <td>5503.000000</td>\n",
              "      <td>38909.750000</td>\n",
              "      <td>14631.000000</td>\n",
              "      <td>22553.750000</td>\n",
              "      <td>0.703299</td>\n",
              "      <td>338.000000</td>\n",
              "      <td>31433.000000</td>\n",
              "      <td>25147.000000</td>\n",
              "      <td>9948.000000</td>\n",
              "      <td>16891.000000</td>\n",
              "      <td>2393.000000</td>\n",
              "      <td>0.087557</td>\n",
              "      <td>45000.000000</td>\n",
              "      <td>33000.000000</td>\n",
              "      <td>60000.000000</td>\n",
              "      <td>14444.000000</td>\n",
              "      <td>11783.000000</td>\n",
              "      <td>3466.000000</td>\n",
              "    </tr>\n",
              "    <tr>\n",
              "      <th>max</th>\n",
              "      <td>173.000000</td>\n",
              "      <td>6403.000000</td>\n",
              "      <td>393735.000000</td>\n",
              "      <td>173809.000000</td>\n",
              "      <td>307087.000000</td>\n",
              "      <td>0.968954</td>\n",
              "      <td>4212.000000</td>\n",
              "      <td>307933.000000</td>\n",
              "      <td>251540.000000</td>\n",
              "      <td>115172.000000</td>\n",
              "      <td>199897.000000</td>\n",
              "      <td>28169.000000</td>\n",
              "      <td>0.177226</td>\n",
              "      <td>110000.000000</td>\n",
              "      <td>95000.000000</td>\n",
              "      <td>125000.000000</td>\n",
              "      <td>151643.000000</td>\n",
              "      <td>148395.000000</td>\n",
              "      <td>48207.000000</td>\n",
              "    </tr>\n",
              "  </tbody>\n",
              "</table>\n",
              "</div>"
            ],
            "text/plain": [
              "             Rank   Major_code  ...  Non_college_jobs  Low_wage_jobs\n",
              "count  173.000000   173.000000  ...        173.000000     173.000000\n",
              "mean    87.000000  3879.815029  ...      13284.497110    3859.017341\n",
              "std     50.084928  1687.753140  ...      23789.655363    6944.998579\n",
              "min      1.000000  1100.000000  ...          0.000000       0.000000\n",
              "25%     44.000000  2403.000000  ...       1591.000000     340.000000\n",
              "50%     87.000000  3608.000000  ...       4595.000000    1231.000000\n",
              "75%    130.000000  5503.000000  ...      11783.000000    3466.000000\n",
              "max    173.000000  6403.000000  ...     148395.000000   48207.000000\n",
              "\n",
              "[8 rows x 19 columns]"
            ]
          },
          "metadata": {
            "tags": []
          },
          "execution_count": 5
        }
      ]
    },
    {
      "cell_type": "markdown",
      "metadata": {
        "id": "tHM09Agmh2_3"
      },
      "source": [
        "In the above output it describes various things on our input data like MEAN,COUNT,STANDARD DEVIATION,MIN........etc"
      ]
    },
    {
      "cell_type": "code",
      "metadata": {
        "id": "zqHgRhIFipn4",
        "outputId": "8299f9f4-9231-489b-a66f-3b4fdbe2f7ba",
        "colab": {
          "base_uri": "https://localhost:8080/",
          "height": 399
        }
      },
      "source": [
        "Null_count = df.isnull().sum()\n",
        "Null_count"
      ],
      "execution_count": 6,
      "outputs": [
        {
          "output_type": "execute_result",
          "data": {
            "text/plain": [
              "Rank                    0\n",
              "Major_code              0\n",
              "Major                   0\n",
              "Total                   1\n",
              "Men                     1\n",
              "Women                   1\n",
              "Major_category          0\n",
              "ShareWomen              1\n",
              "Sample_size             0\n",
              "Employed                0\n",
              "Full_time               0\n",
              "Part_time               0\n",
              "Full_time_year_round    0\n",
              "Unemployed              0\n",
              "Unemployment_rate       0\n",
              "Median                  0\n",
              "P25th                   0\n",
              "P75th                   0\n",
              "College_jobs            0\n",
              "Non_college_jobs        0\n",
              "Low_wage_jobs           0\n",
              "dtype: int64"
            ]
          },
          "metadata": {
            "tags": []
          },
          "execution_count": 6
        }
      ]
    },
    {
      "cell_type": "markdown",
      "metadata": {
        "id": "gLi-WOYGUjKU"
      },
      "source": [
        "Here it represents the count of null values in the data in each tuple"
      ]
    },
    {
      "cell_type": "markdown",
      "metadata": {
        "id": "2yrEUv9uVR67"
      },
      "source": [
        "Different plots for understanding the distribution of the data(Graphical Representation)"
      ]
    },
    {
      "cell_type": "code",
      "metadata": {
        "id": "HuswqcHsU7x8",
        "outputId": "d8a52564-e468-4c97-8bae-40af5baf3cbd",
        "colab": {
          "base_uri": "https://localhost:8080/",
          "height": 313
        }
      },
      "source": [
        "axis = df.plot(x='Sample_size', y='Median', kind='scatter')\n",
        "axis.set_title('Sample_size vs. Median')"
      ],
      "execution_count": 7,
      "outputs": [
        {
          "output_type": "execute_result",
          "data": {
            "text/plain": [
              "Text(0.5, 1.0, 'Sample_size vs. Median')"
            ]
          },
          "metadata": {
            "tags": []
          },
          "execution_count": 7
        },
        {
          "output_type": "display_data",
          "data": {
            "image/png": "[encoded data removed]",
            "text/plain": [
              "<Figure size 432x288 with 1 Axes>"
            ]
          },
          "metadata": {
            "tags": [],
            "needs_background": "light"
          }
        }
      ]
    },
    {
      "cell_type": "code",
      "metadata": {
        "id": "6XwVUY9UVscY",
        "outputId": "25f6d0d1-5860-447d-f6a8-6ada86391cd7",
        "colab": {
          "base_uri": "https://localhost:8080/",
          "height": 313
        }
      },
      "source": [
        "axis = df.plot(x='Sample_size', y='Unemployment_rate', kind='scatter')\n",
        "axis.set_title('Sample_size vs. Unemployment_rate')"
      ],
      "execution_count": 8,
      "outputs": [
        {
          "output_type": "execute_result",
          "data": {
            "text/plain": [
              "Text(0.5, 1.0, 'Sample_size vs. Unemployment_rate')"
            ]
          },
          "metadata": {
            "tags": []
          },
          "execution_count": 8
        },
        {
          "output_type": "display_data",
          "data": {
            "image/png": "[encoded data removed]",
            "text/plain": [
              "<Figure size 432x288 with 1 Axes>"
            ]
          },
          "metadata": {
            "tags": [],
            "needs_background": "light"
          }
        }
      ]
    },
    {
      "cell_type": "code",
      "metadata": {
        "id": "c1v_qM_TV39-",
        "outputId": "4dd2c93a-8e40-4385-9205-51d6032d82a4",
        "colab": {
          "base_uri": "https://localhost:8080/",
          "height": 313
        }
      },
      "source": [
        "axis = df.plot(x='Full_time', y='Median', kind='scatter')\n",
        "axis.set_title('Full_time vs. Median')\n"
      ],
      "execution_count": 9,
      "outputs": [
        {
          "output_type": "execute_result",
          "data": {
            "text/plain": [
              "Text(0.5, 1.0, 'Full_time vs. Median')"
            ]
          },
          "metadata": {
            "tags": []
          },
          "execution_count": 9
        },
        {
          "output_type": "display_data",
          "data": {
            "image/png": "[encoded data removed]",
            "text/plain": [
              "<Figure size 432x288 with 1 Axes>"
            ]
          },
          "metadata": {
            "tags": [],
            "needs_background": "light"
          }
        }
      ]
    },
    {
      "cell_type": "code",
      "metadata": {
        "id": "AHgBMvZ5WCCt",
        "outputId": "37da8cd0-7c14-4447-bac8-588deb7d9f32",
        "colab": {
          "base_uri": "https://localhost:8080/",
          "height": 313
        }
      },
      "source": [
        "axis = df.plot(x='ShareWomen', y='Unemployment_rate', kind='scatter')\n",
        "axis.set_title('ShareWomen vs. Unemployment_rate')"
      ],
      "execution_count": 10,
      "outputs": [
        {
          "output_type": "execute_result",
          "data": {
            "text/plain": [
              "Text(0.5, 1.0, 'ShareWomen vs. Unemployment_rate')"
            ]
          },
          "metadata": {
            "tags": []
          },
          "execution_count": 10
        },
        {
          "output_type": "display_data",
          "data": {
            "image/png": "[encoded data removed]",
            "text/plain": [
              "<Figure size 432x288 with 1 Axes>"
            ]
          },
          "metadata": {
            "tags": [],
            "needs_background": "light"
          }
        }
      ]
    },
    {
      "cell_type": "code",
      "metadata": {
        "id": "xTgtfMXFWD6e",
        "outputId": "24205a92-a762-4995-e1a9-2930778669db",
        "colab": {
          "base_uri": "https://localhost:8080/",
          "height": 313
        }
      },
      "source": [
        "axis = df.plot(x='Men', y='Median', kind='scatter')\n",
        "axis.set_title('Men vs. Median')"
      ],
      "execution_count": 11,
      "outputs": [
        {
          "output_type": "execute_result",
          "data": {
            "text/plain": [
              "Text(0.5, 1.0, 'Men vs. Median')"
            ]
          },
          "metadata": {
            "tags": []
          },
          "execution_count": 11
        },
        {
          "output_type": "display_data",
          "data": {
            "image/png": "[encoded data removed]",
            "text/plain": [
              "<Figure size 432x288 with 1 Axes>"
            ]
          },
          "metadata": {
            "tags": [],
            "needs_background": "light"
          }
        }
      ]
    },
    {
      "cell_type": "code",
      "metadata": {
        "id": "PA0YmfexWKPv",
        "outputId": "954112de-0016-4428-ca89-b5866a86d086",
        "colab": {
          "base_uri": "https://localhost:8080/",
          "height": 313
        }
      },
      "source": [
        "axis = df.plot(x='Women', y='Median', kind='scatter')\n",
        "axis.set_title('Women vs. Median')"
      ],
      "execution_count": 12,
      "outputs": [
        {
          "output_type": "execute_result",
          "data": {
            "text/plain": [
              "Text(0.5, 1.0, 'Women vs. Median')"
            ]
          },
          "metadata": {
            "tags": []
          },
          "execution_count": 12
        },
        {
          "output_type": "display_data",
          "data": {
            "image/png": "[encoded data removed]",
            "text/plain": [
              "<Figure size 432x288 with 1 Axes>"
            ]
          },
          "metadata": {
            "tags": [],
            "needs_background": "light"
          }
        }
      ]
    },
    {
      "cell_type": "code",
      "metadata": {
        "id": "psKQK2dYWjAU",
        "outputId": "f7869028-7f73-4c57-d446-70bd09b4f6f5",
        "colab": {
          "base_uri": "https://localhost:8080/",
          "height": 297
        }
      },
      "source": [
        "df[\"Sample_size\"].plot(kind='hist', rot=40)"
      ],
      "execution_count": 13,
      "outputs": [
        {
          "output_type": "execute_result",
          "data": {
            "text/plain": [
              "<matplotlib.axes._subplots.AxesSubplot at 0x7f5427d36d30>"
            ]
          },
          "metadata": {
            "tags": []
          },
          "execution_count": 13
        },
        {
          "output_type": "display_data",
          "data": {
            "image/png": "[encoded data removed]",
            "text/plain": [
              "<Figure size 432x288 with 1 Axes>"
            ]
          },
          "metadata": {
            "tags": [],
            "needs_background": "light"
          }
        }
      ]
    },
    {
      "cell_type": "code",
      "metadata": {
        "id": "dqsiVuBaWt-o",
        "outputId": "78055967-dfa8-4da8-9ce0-eb366e1f84de",
        "colab": {
          "base_uri": "https://localhost:8080/",
          "height": 305
        }
      },
      "source": [
        "df[\"Median\"].plot(kind='hist', rot=40)"
      ],
      "execution_count": 14,
      "outputs": [
        {
          "output_type": "execute_result",
          "data": {
            "text/plain": [
              "<matplotlib.axes._subplots.AxesSubplot at 0x7f5427c82240>"
            ]
          },
          "metadata": {
            "tags": []
          },
          "execution_count": 14
        },
        {
          "output_type": "display_data",
          "data": {
            "image/png": "[encoded data removed]",
            "text/plain": [
              "<Figure size 432x288 with 1 Axes>"
            ]
          },
          "metadata": {
            "tags": [],
            "needs_background": "light"
          }
        }
      ]
    },
    {
      "cell_type": "code",
      "metadata": {
        "id": "GkPgnTk7W64L",
        "outputId": "d87f6529-6b72-4bf7-ac95-1e779b41493c",
        "colab": {
          "base_uri": "https://localhost:8080/",
          "height": 305
        }
      },
      "source": [
        "df[\"Employed\"].plot(kind='hist', rot=40)"
      ],
      "execution_count": 15,
      "outputs": [
        {
          "output_type": "execute_result",
          "data": {
            "text/plain": [
              "<matplotlib.axes._subplots.AxesSubplot at 0x7f5427bdb8d0>"
            ]
          },
          "metadata": {
            "tags": []
          },
          "execution_count": 15
        },
        {
          "output_type": "display_data",
          "data": {
            "image/png": "[encoded data removed]",
            "text/plain": [
              "<Figure size 432x288 with 1 Axes>"
            ]
          },
          "metadata": {
            "tags": [],
            "needs_background": "light"
          }
        }
      ]
    },
    {
      "cell_type": "code",
      "metadata": {
        "id": "I-a56KdfW9zw",
        "outputId": "83ac7808-61df-4708-9f37-c5ab2019d949",
        "colab": {
          "base_uri": "https://localhost:8080/",
          "height": 305
        }
      },
      "source": [
        "df[\"Full_time\"].plot(kind='hist', rot=40)"
      ],
      "execution_count": 16,
      "outputs": [
        {
          "output_type": "execute_result",
          "data": {
            "text/plain": [
              "<matplotlib.axes._subplots.AxesSubplot at 0x7f5427b80198>"
            ]
          },
          "metadata": {
            "tags": []
          },
          "execution_count": 16
        },
        {
          "output_type": "display_data",
          "data": {
            "image/png": "[encoded data removed]",
            "text/plain": [
              "<Figure size 432x288 with 1 Axes>"
            ]
          },
          "metadata": {
            "tags": [],
            "needs_background": "light"
          }
        }
      ]
    },
    {
      "cell_type": "code",
      "metadata": {
        "id": "4CbnJ7jPXFv4",
        "outputId": "814aa022-72d1-4644-e782-fbd55e9eecce",
        "colab": {
          "base_uri": "https://localhost:8080/",
          "height": 291
        }
      },
      "source": [
        "df[\"ShareWomen\"].plot(kind='hist', rot=40)"
      ],
      "execution_count": 17,
      "outputs": [
        {
          "output_type": "execute_result",
          "data": {
            "text/plain": [
              "<matplotlib.axes._subplots.AxesSubplot at 0x7f5427afc3c8>"
            ]
          },
          "metadata": {
            "tags": []
          },
          "execution_count": 17
        },
        {
          "output_type": "display_data",
          "data": {
            "image/png": "[encoded data removed]",
            "text/plain": [
              "<Figure size 432x288 with 1 Axes>"
            ]
          },
          "metadata": {
            "tags": [],
            "needs_background": "light"
          }
        }
      ]
    }
  ]
}